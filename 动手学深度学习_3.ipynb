{
 "cells": [
  {
   "cell_type": "markdown",
   "id": "c3a6dfbd",
   "metadata": {},
   "source": [
    "安装教程\n",
    "https://www.bilibili.com/video/BV18K411w7Vs/?share_source=copy_web&vd_source=ebd142849f4f7e7152f40875743cbd25"
   ]
  },
  {
   "cell_type": "code",
   "execution_count": null,
   "id": "ef07f552",
   "metadata": {},
   "outputs": [],
   "source": []
  }
 ],
 "metadata": {
  "kernelspec": {
   "display_name": "Python [conda env:root] *",
   "language": "python",
   "name": "conda-root-py"
  },
  "language_info": {
   "codemirror_mode": {
    "name": "ipython",
    "version": 3
   },
   "file_extension": ".py",
   "mimetype": "text/x-python",
   "name": "python",
   "nbconvert_exporter": "python",
   "pygments_lexer": "ipython3",
   "version": "3.11.7"
  }
 },
 "nbformat": 4,
 "nbformat_minor": 5
}
