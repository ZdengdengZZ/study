{
 "cells": [
  {
   "cell_type": "markdown",
   "id": "26102cf4",
   "metadata": {},
   "source": [
    "# 文本预处理 文本就是一个有时序条件的序列"
   ]
  },
  {
   "cell_type": "code",
   "execution_count": 1,
   "id": "bac71e22",
   "metadata": {},
   "outputs": [],
   "source": [
    "# 对于序列数据处理问题\n",
    "\n",
    "# 文本是最常见例子之一。 例如，一篇文章可以被简单地看作一串单词序列，甚至是一串字符序列\n",
    "\n",
    "import collections\n",
    "import re\n",
    "from d2l import torch as d2l"
   ]
  },
  {
   "cell_type": "code",
   "execution_count": 11,
   "id": "c61a015d",
   "metadata": {},
   "outputs": [
    {
     "name": "stdout",
     "output_type": "stream",
     "text": [
      "# 文本总行数: 3221\n",
      "the time machine by h g wells\n",
      "twinkled and his usually pale face was flushed and animated the\n"
     ]
    }
   ],
   "source": [
    "# 将数据集读取到由多条文本行组成的列表中去\n",
    "\n",
    "#@save\n",
    "d2l.DATA_HUB['time_machine'] = (d2l.DATA_URL + 'timemachine.txt',\n",
    "                                '090b5e7e70c295757f55df93cb0a180b9691891a')\n",
    "\n",
    "def read_time_machine():  #@save\n",
    "    \"\"\"将时间机器数据集加载到文本行的列表中\"\"\"\n",
    "    with open(d2l.download('time_machine'), 'r') as f:\n",
    "        lines = f.readlines()\n",
    "        #不是大小写字母的全部变成空格\n",
    "    return [re.sub('[^A-Za-z]+', ' ', line).strip().lower() for line in lines]\n",
    "\n",
    "\n",
    "\n",
    "lines = read_time_machine()\n",
    "print(f'# 文本总行数: {len(lines)}')\n",
    "print(lines[0])\n",
    "print(lines[10])"
   ]
  },
  {
   "cell_type": "code",
   "execution_count": 12,
   "id": "02811982",
   "metadata": {},
   "outputs": [
    {
     "name": "stdout",
     "output_type": "stream",
     "text": [
      "['the', 'time', 'machine', 'by', 'h', 'g', 'wells']\n",
      "[]\n",
      "[]\n",
      "[]\n",
      "[]\n",
      "['i']\n",
      "[]\n",
      "[]\n",
      "['the', 'time', 'traveller', 'for', 'so', 'it', 'will', 'be', 'convenient', 'to', 'speak', 'of', 'him']\n",
      "['was', 'expounding', 'a', 'recondite', 'matter', 'to', 'us', 'his', 'grey', 'eyes', 'shone', 'and']\n",
      "['twinkled', 'and', 'his', 'usually', 'pale', 'face', 'was', 'flushed', 'and', 'animated', 'the']\n"
     ]
    }
   ],
   "source": [
    "# 将文本序列拆分成一个标记列表\n",
    "\n",
    "def tokenize(lines, token='word'):  #@save\n",
    "    \"\"\"将文本行拆分为单词或字符词元\"\"\"\n",
    "    # 检查 token 类型，决定是按单词还是字符进行拆分\n",
    "    if token == 'word':\n",
    "        # 如果 token 类型为 'word'，则将每行按空格拆分为单词\n",
    "        return [line.split() for line in lines]\n",
    "    elif token == 'char':\n",
    "        # 如果 token 类型为 'char'，则将每行转换为字符列表\n",
    "        return [list(line) for line in lines]\n",
    "    else:\n",
    "        # 如果 token 类型不符合预期，输出错误信息\n",
    "        print('错误：未知词元类型：' + token)\n",
    "\n",
    "# 调用 tokenize 函数并将结果存储在 tokens 变量中\n",
    "tokens = tokenize(lines,token='word')\n",
    "\n",
    "# 打印前 11 个词元\n",
    "for i in range(11):\n",
    "    print(tokens[i])"
   ]
  },
  {
   "cell_type": "code",
   "execution_count": 13,
   "id": "eefa8257",
   "metadata": {},
   "outputs": [],
   "source": [
    "# 构建一个字典（词汇表） 用来将字符串类型的标记映射到从0开始的数字索引中\n",
    "class Vocab:  #@save\n",
    "    \"\"\"文本词表\"\"\"\n",
    "    \n",
    "    def __init__(self, tokens=None, min_freq=0, reserved_tokens=None):\n",
    "        # 初始化词表\n",
    "        if tokens is None:\n",
    "            tokens = []  # 如果未提供 tokens，则初始化为空列表\n",
    "        if reserved_tokens is None:\n",
    "            reserved_tokens = []  # 如果未提供保留词元，则初始化为空列表\n",
    "\n",
    "        # 按出现频率统计和排序词元\n",
    "        counter = count_corpus(tokens)  # 调用 count_corpus 统计词元频率\n",
    "        self._token_freqs = sorted(counter.items(), key=lambda x: x[1], reverse=True)  # 按频率排序\n",
    "        \n",
    "        # 初始化 idx_to_token，包括未知词元和保留词元\n",
    "        self.idx_to_token = ['<unk>'] + reserved_tokens\n",
    "        self.token_to_idx = {token: idx for idx, token in enumerate(self.idx_to_token)}\n",
    "        # 填充词表\n",
    "        for token, freq in self._token_freqs:\n",
    "            if freq < min_freq:\n",
    "                break  # 如果出现频率小于 min_freq，则停止添加\n",
    "            if token not in self.token_to_idx:\n",
    "                self.idx_to_token.append(token)  # 将 token 添加到 idx_to_token\n",
    "                self.token_to_idx[token] = len(self.idx_to_token) - 1  # 在 token_to_idx 中记录索引\n",
    "\n",
    "    def __len__(self):\n",
    "        # 返回词表的大小\n",
    "        return len(self.idx_to_token)\n",
    "\n",
    "    def __getitem__(self, tokens):\n",
    "        # 支持通过索引获取词元的索引\n",
    "        if not isinstance(tokens, (list, tuple)):\n",
    "            return self.token_to_idx.get(tokens, self.unk)  # 如果是单个词元，返回其索引\n",
    "        return [self.__getitem__(token) for token in tokens]  # 如果是列表或元组，递归获取索引\n",
    "\n",
    "    def to_tokens(self, indices):\n",
    "        # 将索引转换为对应的词元\n",
    "        if not isinstance(indices, (list, tuple)):\n",
    "            return self.idx_to_token[indices]  # 如果是单个索引，直接返回对应的词元\n",
    "        return [self.idx_to_token[index] for index in indices]  # 如果是列表或元组，返回对应的词元列表\n",
    "\n",
    "    @property\n",
    "    def unk(self):  # 未知词元的索引为 0\n",
    "        return 0\n",
    "\n",
    "    @property\n",
    "    def token_freqs(self):\n",
    "        # 返回词元的频率\n",
    "        return self._token_freqs\n",
    "\n",
    "def count_corpus(tokens):  #@save\n",
    "    \"\"\"统计词元的频率\"\"\"\n",
    "    # 这里的tokens可以是1D列表或2D列表\n",
    "    if len(tokens) == 0 or isinstance(tokens[0], list):\n",
    "        # 将词元列表展平成一个列表\n",
    "        tokens = [token for line in tokens for token in line]\n",
    "    # 使用 Counter 统计每个词元的频率\n",
    "    return collections.Counter(tokens)"
   ]
  },
  {
   "cell_type": "code",
   "execution_count": 14,
   "id": "0d0c75a4",
   "metadata": {},
   "outputs": [
    {
     "name": "stdout",
     "output_type": "stream",
     "text": [
      "[('<unk>', 0), ('the', 1), ('i', 2), ('and', 3), ('of', 4), ('a', 5), ('to', 6), ('was', 7), ('in', 8), ('that', 9)]\n"
     ]
    }
   ],
   "source": [
    "# 构建词汇表\n",
    "\n",
    "vocab = Vocab(tokens)\n",
    "print(list(vocab.token_to_idx.items())[:10])"
   ]
  },
  {
   "cell_type": "code",
   "execution_count": 16,
   "id": "f1068f00",
   "metadata": {},
   "outputs": [
    {
     "name": "stdout",
     "output_type": "stream",
     "text": [
      "文本: ['the', 'time', 'machine', 'by', 'h', 'g', 'wells']\n",
      "索引: [1, 19, 50, 40, 2183, 2184, 400]\n",
      "文本: ['twinkled', 'and', 'his', 'usually', 'pale', 'face', 'was', 'flushed', 'and', 'animated', 'the']\n",
      "索引: [2186, 3, 25, 1044, 362, 113, 7, 1421, 3, 1045, 1]\n"
     ]
    }
   ],
   "source": [
    "# 将每一个文本转换为一个数字索引表\n",
    "for i in [0, 10]:\n",
    "    print('文本:', tokens[i])\n",
    "    print('索引:', vocab[tokens[i]])"
   ]
  },
  {
   "cell_type": "code",
   "execution_count": 17,
   "id": "2408d3ed",
   "metadata": {},
   "outputs": [
    {
     "data": {
      "text/plain": [
       "(170580, 28)"
      ]
     },
     "execution_count": 17,
     "metadata": {},
     "output_type": "execute_result"
    }
   ],
   "source": [
    "# 将所有功能打包到函数之中\n",
    "def load_corpus_time_machine(max_tokens=-1):  #@save\n",
    "    \"\"\"返回时光机器数据集的词元索引列表和词表\"\"\"\n",
    "    lines = read_time_machine()\n",
    "    tokens = tokenize(lines, 'char')\n",
    "    vocab = Vocab(tokens)\n",
    "    # 因为时光机器数据集中的每个文本行不一定是一个句子或一个段落，\n",
    "    # 所以将所有文本行展平到一个列表中\n",
    "    corpus = [vocab[token] for line in tokens for token in line]\n",
    "    if max_tokens > 0:\n",
    "        corpus = corpus[:max_tokens]\n",
    "    return corpus, vocab\n",
    "\n",
    "corpus, vocab = load_corpus_time_machine()\n",
    "len(corpus), len(vocab)"
   ]
  },
  {
   "attachments": {
    "image.png": {
     "image/png": "[encoded data removed]"
    }
   },
   "cell_type": "markdown",
   "id": "60e08daa",
   "metadata": {},
   "source": [
    "![image.png](attachment:image.png)"
   ]
  },
  {
   "cell_type": "code",
   "execution_count": null,
   "id": "f47711c0",
   "metadata": {},
   "outputs": [],
   "source": []
  }
 ],
 "metadata": {
  "kernelspec": {
   "display_name": "Python [conda env:torch_pythom_3.9]",
   "language": "python",
   "name": "conda-env-torch_pythom_3.9-py"
  },
  "language_info": {
   "codemirror_mode": {
    "name": "ipython",
    "version": 3
   },
   "file_extension": ".py",
   "mimetype": "text/x-python",
   "name": "python",
   "nbconvert_exporter": "python",
   "pygments_lexer": "ipython3",
   "version": "3.9.19"
  }
 },
 "nbformat": 4,
 "nbformat_minor": 5
}
