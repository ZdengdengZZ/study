{
 "cells": [
  {
   "cell_type": "markdown",
   "id": "d2558171",
   "metadata": {},
   "source": [
    "https://blog.csdn.net/jerry_liufeng/article/details/119815711"
   ]
  },
  {
   "cell_type": "code",
   "execution_count": null,
   "id": "9226ea82",
   "metadata": {},
   "outputs": [],
   "source": []
  }
 ],
 "metadata": {
  "kernelspec": {
   "display_name": "Python [conda env:torch_pythom_3.9]",
   "language": "python",
   "name": "conda-env-torch_pythom_3.9-py"
  },
  "language_info": {
   "codemirror_mode": {
    "name": "ipython",
    "version": 3
   },
   "file_extension": ".py",
   "mimetype": "text/x-python",
   "name": "python",
   "nbconvert_exporter": "python",
   "pygments_lexer": "ipython3",
   "version": "3.9.19"
  }
 },
 "nbformat": 4,
 "nbformat_minor": 5
}
